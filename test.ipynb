{
 "cells": [
  {
   "cell_type": "code",
   "execution_count": 1,
   "metadata": {},
   "outputs": [],
   "source": [
    "%load_ext autoreload\n",
    "%autoreload 2"
   ]
  },
  {
   "cell_type": "code",
   "execution_count": 2,
   "metadata": {},
   "outputs": [
    {
     "name": "stderr",
     "output_type": "stream",
     "text": [
      "/nfs/turbo/umms-drjieliu/usr/syuanlee/miniconda3/envs/newnew_dcvln38/lib/python3.8/site-packages/tqdm/auto.py:21: TqdmWarning: IProgress not found. Please update jupyter and ipywidgets. See https://ipywidgets.readthedocs.io/en/stable/user_install.html\n",
      "  from .autonotebook import tqdm as notebook_tqdm\n"
     ]
    }
   ],
   "source": [
    "import torch\n",
    "import argparse\n",
    "from dataloader import RGBDepthPano\n",
    "\n",
    "from image_encoders import RGBEncoder, DepthEncoder\n",
    "from TRM_net import BinaryDistPredictor_TRM, TRM_predict\n",
    "\n",
    "from eval import waypoint_eval\n",
    "\n",
    "import os\n",
    "import glob\n",
    "import utils\n",
    "import random\n",
    "from utils import nms\n",
    "from utils import print_progress\n",
    "from tensorboardX import SummaryWriter\n",
    "\n",
    "device = torch.device('cuda' if torch.cuda.is_available() else 'cpu')"
   ]
  },
  {
   "cell_type": "code",
   "execution_count": 3,
   "metadata": {},
   "outputs": [],
   "source": [
    "class Args:\n",
    "    def __init__(self):\n",
    "        self.EXP_ID = 'test_ipynb'\n",
    "        self.TRAINEVAL = 'train'\n",
    "        self.VIS = 0\n",
    "        self.ANGLES = 120\n",
    "        self.NUM_IMGS = 12\n",
    "        self.NUM_CLASSES = 12\n",
    "        self.MAX_NUM_CANDIDATES = 5\n",
    "        self.PREDICTOR_NET = 'TRM'\n",
    "        self.EPOCH = 300\n",
    "        self.BATCH_SIZE = 8\n",
    "        self.LEARNING_RATE = 1e-6\n",
    "        self.WEIGHT = 0\n",
    "        self.TRM_LAYER = 2\n",
    "        self.TRM_NEIGHBOR = 1\n",
    "        self.HEATMAP_OFFSET = 5\n",
    "        self.HIDDEN_DIM = 768\n",
    "\n",
    "args = Args()"
   ]
  },
  {
   "cell_type": "code",
   "execution_count": null,
   "metadata": {},
   "outputs": [],
   "source": [
    "def setup(args):\n",
    "    \"\"\"\n",
    "    Set random seeds and create experiment directories\n",
    "    Args:\n",
    "        args: Command line arguments\n",
    "    \"\"\"\n",
    "    torch.manual_seed(0)  # Set PyTorch random seed\n",
    "    random.seed(0)  # Set Python random seed\n",
    "    exp_log_path = './checkpoints/%s/'%(args.EXP_ID)  # Experiment log path\n",
    "    os.makedirs(exp_log_path, exist_ok=True)  # Create experiment directory\n",
    "    exp_log_path = './checkpoints/%s/snap/'%(args.EXP_ID)  # Model snapshot path\n",
    "    os.makedirs(exp_log_path, exist_ok=True)  # Create model snapshot directory"
   ]
  },
  {
   "cell_type": "markdown",
   "metadata": {},
   "source": [
    "## RGBEncoder \n",
    "It uses Torchvision pre-trained Resnet50. It removes last two layers (fully connected and pooling layers), keep only feature extraction part. \n",
    "* Input size: [batchsize, num_imgs, 3, 224, 224]\n",
    "* Output size: [batchsize*num_imgs, 2048, 7, 7]"
   ]
  },
  {
   "cell_type": "code",
   "execution_count": 4,
   "metadata": {},
   "outputs": [
    {
     "name": "stdout",
     "output_type": "stream",
     "text": [
      "\n",
      "Loading Torchvision pre-trained Resnet50 for RGB ...\n"
     ]
    },
    {
     "name": "stderr",
     "output_type": "stream",
     "text": [
      "/nfs/turbo/umms-drjieliu/usr/syuanlee/miniconda3/envs/newnew_dcvln38/lib/python3.8/site-packages/torchvision/models/_utils.py:208: UserWarning: The parameter 'pretrained' is deprecated since 0.13 and may be removed in the future, please use 'weights' instead.\n",
      "  warnings.warn(\n",
      "/nfs/turbo/umms-drjieliu/usr/syuanlee/miniconda3/envs/newnew_dcvln38/lib/python3.8/site-packages/torchvision/models/_utils.py:223: UserWarning: Arguments other than a weight enum or `None` for 'weights' are deprecated since 0.13 and may be removed in the future. The current behavior is equivalent to passing `weights=ResNet50_Weights.IMAGENET1K_V1`. You can also use `weights=ResNet50_Weights.DEFAULT` to get the most up-to-date weights.\n",
      "  warnings.warn(msg)\n"
     ]
    }
   ],
   "source": [
    "rgb_encoder = RGBEncoder(resnet_pretrain=True, trainable=False).to(device)"
   ]
  },
  {
   "cell_type": "markdown",
   "metadata": {},
   "source": [
    "## DepthEncoder\n",
    "It is based on habitat_baselines.rl.ddppo.policy resnet, specificly resnet50. It first goes through the backbone net where you can specific the output channels after first conv, parameters of Group Norm and input image size. Then it goes through a compression layer to change the number of channels so that the output flatten size is what you want, which is after_compression_flat_size.\n",
    "* Input size: [batchsize, num_imgs, 256, 256, 1]\n",
    "* Output size: [batchsize*num_imgs, 128, 4, 4]"
   ]
  },
  {
   "cell_type": "code",
   "execution_count": 5,
   "metadata": {},
   "outputs": [
    {
     "name": "stdout",
     "output_type": "stream",
     "text": [
      "Loading PointNav pre-trained Resnet50 for Depth ...\n"
     ]
    },
    {
     "name": "stderr",
     "output_type": "stream",
     "text": [
      "/scratch/mcity_project_root/mcity_project/syuanlee/Waypoint-Prediction/image_encoders.py:72: FutureWarning: You are using `torch.load` with `weights_only=False` (the current default value), which uses the default pickle module implicitly. It is possible to construct malicious pickle data which will execute arbitrary code during unpickling (See https://github.com/pytorch/pytorch/blob/main/SECURITY.md#untrusted-models for more details). In a future release, the default value for `weights_only` will be flipped to `True`. This limits the functions that could be executed during unpickling. Arbitrary objects will no longer be allowed to be loaded via this mode unless they are explicitly allowlisted by the user via `torch.serialization.add_safe_globals`. We recommend you start setting `weights_only=True` for any use case where you don't have full control of the loaded file. Please open an issue on GitHub for any issues related to this experimental feature.\n",
      "  ddppo_pn_depth_encoder_weights = torch.load('./data/ddppo-models/gibson-2plus-resnet50.pth')\n"
     ]
    }
   ],
   "source": [
    "depth_encoder = DepthEncoder(resnet_pretrain=True, trainable=False).to(device)"
   ]
  },
  {
   "cell_type": "markdown",
   "metadata": {},
   "source": [
    "## Transformer Architescture\n",
    "### VisPosEmbeddings\n",
    "Input size: [batch_size, num_images, hidden_size]  \n",
    "embeddings = vis_embeddings + position_embeddings  \n",
    "Output size: [batch_size, num_images, hidden_size]  \n",
    "### CaptionBertAttention\n",
    "Attention layer in each block.  \n",
    "Input size: [batch_size, num_images, hidden_size]  \n",
    "Attention mask: [1, 1, num_images, num_images]  \n",
    "#### utils.get_attention_mask\n",
    "It receives number of neighbors allowed to attend to on each side specified in args.TRM_NEIGHBOR. And return a [1, 1, num_images, num_images] mask tensor, 1 indicates allowed attention, 0 indicates forbidden attention. \n",
    "\n",
    "In CaptionBertAttention, it first goes through CaptionBertSelfAttention, a self-attention layer which adds attention mask to the attention score matrix and outputs the context embeddings. Then it goes through a feedforward net which enables residue connection. \n",
    "\n",
    "Output size: [batch_size, num_images, hidden_size]\n",
    "\n",
    "### CaptionBertEncoder\n",
    "It consists of mutiple blocks of CaptionBertAttention specified in args.TRM_LAYER.\n",
    "\n",
    "### BertImgModel\n",
    "It simply calls CaptionBertEncoder.\n",
    "\n",
    "### WaypointBert\n",
    "It consists of a BertImgModel layer and a dropout layer.\n",
    "\n"
   ]
  },
  {
   "cell_type": "markdown",
   "metadata": {},
   "source": [
    "## BinaryDistPredictor_TRM\n",
    "### Compression Layer\n",
    "* Receives input from RGBEncoder and DepthEncoder [batchsize * num_imgs, 2048, 7, 7], [batchsize * num_imgs, 128, 4, 4]\n",
    "* Flatten the input to 2048x7x7 and 128x4x4 respectively and compression to hiddem dim.\n",
    "* Reshape to (batchsize, num_imgs, hidden_dim)\n",
    "### Merge Layer\n",
    "* Concatenate the two outputs to (batchsize, num_imgs, 2*hidden_dim) and then linear project to (batchsize, num_imgs, hidden_dim) with ReLU.\n",
    "### Transformer Layer\n",
    "* Get attention mask specified in args.TRM_NEIGHBOR\n",
    "* Go through WaypointBert layer.\n",
    "### Classifier Layer\n",
    "* For each image in each sample in each batch, after Transformer Layer, its size is hidden_dim.\n",
    "* Linear layer from hidden_dim to hidden_dim with ReLU.\n",
    "* Linear layer hidden_dim to n_classes*(num_angles/num_imgs). For example, n_classes=12 is the distance index from current node to max radius. 0.25 to 3.0 is 12 * 0.25. num_angles=120 represents dividing 360 degrees to 120 * 3 degrees. num_imgs=12 is the number of images in the panorama. In this case, each image corresonds to num_angles/num_imgs=10 sectors of 3 degree. So this is a 10(3 degree) * 12(0.25m) heatmap centered at this image. In each sample, there are 12 images. So in total it's a 120(3 degree) * 12(0.25m) heatmap, where each image is responsible for its 10(3 degree) * 12(0.25m) local heatmap.\n",
    "* Output size is (batchsize, num_imgs, n_classes*(num_angles/num_imgs)). After reshape, it becomes (batchsize, num_angles, n_classes) which is the 120(3 degree) * 12(0.25m) heatmap. Each point in the heatmap correspond to a independent vis_logit which captures the probability of being a watpoint.\n",
    "\n"
   ]
  },
  {
   "cell_type": "code",
   "execution_count": 6,
   "metadata": {},
   "outputs": [],
   "source": [
    "predictor = BinaryDistPredictor_TRM(args=args, hidden_dim=args.HIDDEN_DIM, n_classes=args.NUM_CLASSES).to(device)"
   ]
  },
  {
   "cell_type": "markdown",
   "metadata": {},
   "source": [
    "## Ground Truth Dict\n",
    "* navigability_dict[scan_id][node] contains information about a node in this scene(scan_id)\n",
    "* target: A target map 120 * 12 . For the neighbors of this node, if its distance from the node <3.25m and >0.25m, its location in the target map is filled by 1. In the same angle, if there is more than one effective neighbor waypoints, retain the furthest waypoint so that it guarantees in each angle there is at most one waypoint. If there is no effective waypoints in each angle, delete this node. Then it uses gaussian filter to smooth the target map. It sets those locations in obstacles to be 0 according to the obstacle map. If all the values in target map are lower than some threshold, delete this node.\n",
    "* obstacle: A obstacle map 120 * 12. 1 indicates obstacles and 0 indicates open spaces.\n",
    "* weight: A weight map 120 * 12. Not used.\n",
    "* source_pos: The pose of the current node in the simulator.\n",
    "* target_pose: The poses of the effective neigbor waypoints in the simulator."
   ]
  },
  {
   "cell_type": "code",
   "execution_count": 17,
   "metadata": {},
   "outputs": [
    {
     "name": "stdout",
     "output_type": "stream",
     "text": [
      "navigability_dict.keys():  ['zsNo4HB9uLZ', 'TbHJrupSAjP', 'x8F5xyUWy9e', '2azQ1b91cZZ', 'QUCTc6BB5sX', 'oLBMNvg9in8', 'X7HyMhZNoso', 'EU6Fwq7SyZv', 'Z6MFQCViBuw', '8194nk5LbLH', 'pLe4wQe7qrG', '7y3sRwLe3Va', '5LpN3gDmAk7', 'VzqfbhrpDEA', 'cV4RVeZvu5T', 'jh4fc5c5qoQ', 'ur6pFq6Qu1A', '82sE5b5pLXE', 'kEZ7cmS4wCh', 'EDJbREhghzL', 'mJXqzFtmKg4', 'pRbA3pwrgk9', 'Vvot9Ly1tCj', '8WUmhLawc2A', 'JeFG25nYj2p', 'GdvgFV5R1Z5', 'VLzqgDo317F', 'E9uDoFAP3SH', 'i5noydFURQK', 'rPc6DW4iMge', 'aayBHfsNo7d', 'PX4nDJXEHrG', '1LXtFkjw3qL', 'S9hNv5qa7GM', 'e9zR4mvMWw7', 'r1Q1Z4BcV1o', 'PuKPg4mmafe', 'VVfe2KiqLaN', 'ac26ZMwG7aT', '2n8kARJN3HM', 'qoiz87JEwZ2', 'JF19kD82Mey', 'ZMojNkEp431', '759xd9YjKW5', 'p5wJjkQkbXX', 'b8cTxDM8gDG', 'uNb9QFRL6hY', 'Uxmj2M2itWa', '29hnd4uzFmX', 'sT4fr6TAbpF', '5q7pvUzZiYa', 'ULsKaCPVFJR', '1pXnuDYAj8r', 'B6ByNegPMKs', 'r47D5H71a5s', 'D7N2EKCX4Sj', 'sKLMLpTHeUy', 'VFuaQ6m2Qom', 'vyrNrziPKCB', 'SN83YJsR3w2', 'D7G3Y4RVNrH', 'gTV8FGcVJC9', 'JmbYfDe2QKZ', 'V2XKFyX4ASd', '17DRP5sb8fy', 's8pcmisQ38h', 'Pm6F8kyY3z2', 'YmJkqBEsHnH', 'dhjEzFoUFzH', 'XcA2TqTSSAj', 'gZ6f7yhEvPG', 'HxpKQynjfin']\n",
      "navigability_dict[scan_id].keys():  ['213f4f2f0d204758bc51252aed60cf82', '5e966f4bdbc849f4b2b200e2f8cc49a0', '11bdfcf0a0984901a1d6f60fdd8ee4a6', '94432dd9d465486b8acfb7013ffc3fca', '0_edge_29_newN_1', 'e1f88263b98d46909c3e00e9250b6a4b', '0cf178fb23754cc0ac3b93398b112ddc', 'a80acc2328154455965a8be4133dee71', '997b813443c64de5b38312642e937223', 'c74a7da1a0e04e7b8b14e1cdab613653', 'ead481533f834704bd489d3d44b6a03a', 'b8c7c025564d4c8391833236f4f782c0', 'e6ba61dd42c64410877149cc11766a8b', '81dab76afc424a5b9ab7c7d2432c633f', '1bfb89f3a44a419a9cf1fdc9d38a2800', '34c20d99605545a885983a9b004f27a2', '0753202108e24c0094f09c60b8f36127', '84f05044aa1542a18b082255100f2c39', '7d1391357299496cbb82840960d05a66', '487a4cc75db94e56aa4d1d35866736fc', 'f04ae8ebf8254168814bc669635b3775', '3493ecf114864afc99d568421c0b42f6', '0_edge_78_newN_0', '19b2aa3137ae44f19821ec0f3da4a836', '0_edge_47_newN_1', 'b5f873817a0b4b60b8447e96b0b4e955', '65eefaf93e6249908e6389eb4eabf0f5', '38e0c09ac7a748dbadea6471861b30c3', '6472b7993a6e440a9d0e12b560ff4616', '0_edge_51_newN_0', '38342af67f5d4b73ad4cff4402f52d83', 'faad06c7cb2b4a6f9220e7f6f87c800b', '38260e04f02546a6af3dcaf8689546a2', '0_edge_21_newN_0', '61c98135870e449a846737f610d0e969', '0_edge_21_newN_1', 'de7a74588c2842e9ba391abb153a0257', '6416ac70316f44d1ae7ec5a3029b1703', '9b1e2472265c46989eb1c3911aa5971b', '0_edge_47_newN_0', 'aabf649f606a48a1b16d5bdcd5970602', '2c687aab96b7498b92023a4888c6e7ab', '2e349b06dd94494ea4b887458e4ab4a3', 'd9d0b72a2929495cb1fc8df42c84b18a', 'b6ca0cc195da4688ba67fa53f0345b98', 'ab993d543aed47fe9360f05eb03f301b', 'dc046de639fa43e29b3da505c030f58f', '935e0f6088a54fba87990835d1997d9a', '320c0ec6c0a343fea6227a2699d0eb7a', '5340c12f388446b589bf2c082c39bd5e', 'f237319a500640d8ac172db225a3ce9c', '2caadd7bc71c43d5ad10f4e7f10a3455', '0_edge_37_newN_0', 'ed8645386a0a4de2bfc486e0a1d02468', '0_edge_71_newN_0', 'b1d919ce693d442d8273032815ce860a', 'd1ef235f79dd480da8b1f320bf073701', '0_edge_51_newN_1', '0_edge_37_newN_1', '145a35f5ca544943b8bc2f997e5f9978', '4c0aab63a4434cf4878e6f5b3ce9a70b', '76c7a665d2b242bfa203e7f394b1353e', 'd48feeed33774f64adb093679b9fcebf']\n",
      "navigability_dict[scan_id][node].keys():  dict_keys(['target', 'obstacle', 'weight', 'source_pos', 'target_pos'])\n"
     ]
    }
   ],
   "source": [
    "''' Load navigability data (ground truth waypoints, obstacles, and weights) '''\n",
    "nav_dict_path = './training_data/%s_*_mp3d_waypoint_twm0.2_obstacle_first_withpos.json'%(args.ANGLES)\n",
    "navigability_dict = utils.load_gt_navigability(nav_dict_path)\n",
    "\n",
    "# Randomly select a scan_id and node to print\n",
    "print('navigability_dict.keys(): ', list(navigability_dict.keys()))\n",
    "scan_id = list(navigability_dict.keys())[0]\n",
    "print('navigability_dict[scan_id].keys(): ', list(navigability_dict[scan_id].keys()))\n",
    "node = list(navigability_dict[scan_id].keys())[0]\n",
    "print('navigability_dict[scan_id][node].keys(): ', navigability_dict[scan_id][node].keys())\n",
    "\n"
   ]
  },
  {
   "cell_type": "markdown",
   "metadata": {},
   "source": [
    "## Generate training images\n",
    "In ./training_data/rgbd_fov90/{split}/{scan}/{scan}_{node}_mp3d_imgs.pkl   \n",
    "It has 12 rgb and depth images for each node in each scan(scene)"
   ]
  },
  {
   "cell_type": "code",
   "execution_count": 9,
   "metadata": {},
   "outputs": [],
   "source": [
    "''' Create data loaders for RGB and depth images '''\n",
    "train_img_dir = './training_data/rgbd_fov90/train/*/*.pkl'  # Training image directory\n",
    "traindataloader = RGBDepthPano(args, train_img_dir, navigability_dict)  # Training data loader\n",
    "eval_img_dir = './training_data/rgbd_fov90/val_unseen/*/*.pkl'  # Evaluation image directory\n",
    "evaldataloader = RGBDepthPano(args, eval_img_dir, navigability_dict)  # Evaluation data loader\n",
    "trainloader = torch.utils.data.DataLoader(traindataloader, \n",
    "        batch_size=args.BATCH_SIZE, shuffle=True, num_workers=4)  # Training batch data loader\n",
    "evalloader = torch.utils.data.DataLoader(evaldataloader, \n",
    "        batch_size=args.BATCH_SIZE, shuffle=False, num_workers=4) \n"
   ]
  },
  {
   "cell_type": "code",
   "execution_count": 11,
   "metadata": {},
   "outputs": [
    {
     "name": "stdout",
     "output_type": "stream",
     "text": [
      "Sample ID: 5603\n",
      "Scan ID: 5q7pvUzZiYa\n",
      "Waypoint ID: fc40a29412bd43d58978091b6ff4141a\n",
      "Number of RGB images:  12\n",
      "RGB shape: torch.Size([3, 224, 224])\n",
      "Depth shape: torch.Size([256, 256, 1])\n"
     ]
    }
   ],
   "source": [
    "\n",
    "# Get a single batch from the dataloader\n",
    "dataiter = iter(trainloader)\n",
    "batch = next(dataiter)\n",
    "\n",
    "# Select the first sample from the batch\n",
    "sample = {k: v[0] if isinstance(v, torch.Tensor) else v[0] for k, v in batch.items()}\n",
    "# Print sample information\n",
    "print(f\"Sample ID: {sample['sample_id']}\")\n",
    "print(f\"Scan ID: {sample['scan_id']}\")\n",
    "print(f\"Waypoint ID: {sample['waypoint_id']}\")\n",
    "print('Number of RGB images: ', len(sample['rgb']))\n",
    "print(f\"RGB shape: {sample['rgb'][0].shape}\")\n",
    "print(f\"Depth shape: {sample['depth'][0].shape}\")\n"
   ]
  },
  {
   "cell_type": "code",
   "execution_count": 12,
   "metadata": {},
   "outputs": [],
   "source": [
    "criterion_mse = torch.nn.MSELoss(reduction='none')\n",
    "params = list(predictor.parameters())\n",
    "optimizer = torch.optim.AdamW(params, lr=args.LEARNING_RATE)"
   ]
  },
  {
   "cell_type": "code",
   "execution_count": 14,
   "metadata": {},
   "outputs": [
    {
     "name": "stdout",
     "output_type": "stream",
     "text": [
      "input rgb shape:  torch.Size([8, 12, 3, 224, 224])\n",
      "input depth shape:  torch.Size([8, 12, 256, 256, 1])\n",
      "output rgb_feats shape:  torch.Size([96, 2048, 7, 7])\n",
      "output depth_feats shape:  torch.Size([96, 128, 4, 4])\n"
     ]
    }
   ],
   "source": [
    "for i, batch in enumerate(trainloader):\n",
    "    data = batch\n",
    "    break\n",
    "\n",
    "scan_ids = data['scan_id']  # Scene IDs\n",
    "waypoint_ids = data['waypoint_id']  # Waypoint IDs\n",
    "rgb_imgs = data['rgb'].to(device)  # RGB images\n",
    "depth_imgs = data['depth'].to(device)  # Depth images\n",
    "\n",
    "print('input rgb shape: ', rgb_imgs.shape) #[B, N, C, H, W]\n",
    "print('input depth shape: ', depth_imgs.shape) #[B, N, H, W, 1]\n",
    "\n",
    "rgb_feats = rgb_encoder(rgb_imgs)      \n",
    "depth_feats = depth_encoder(depth_imgs)  \n",
    "\n",
    "print('output rgb_feats shape: ', rgb_feats.shape) #[B*N, 2048]\n",
    "print('output depth_feats shape: ', depth_feats.shape) #[B*N, 128, 4, 4]\n",
    "    "
   ]
  },
  {
   "cell_type": "code",
   "execution_count": 18,
   "metadata": {},
   "outputs": [
    {
     "name": "stdout",
     "output_type": "stream",
     "text": [
      "target shape:  torch.Size([8, 120, 12])\n",
      "obstacle shape:  torch.Size([8, 120, 12])\n",
      "weight shape:  torch.Size([8, 120, 12])\n"
     ]
    }
   ],
   "source": [
    "target, obstacle, weight, _, _ = utils.get_gt_nav_map(\n",
    "                    args.ANGLES, navigability_dict, scan_ids, waypoint_ids)\n",
    "target = target.to(device)\n",
    "obstacle = obstacle.to(device)\n",
    "weight = weight.to(device)\n",
    "print('target shape: ', target.shape) #(B, angles, 12)\n",
    "print('obstacle shape: ', obstacle.shape) #(B, angles, 12)\n",
    "print('weight shape: ', weight.shape) #(B, angles, 12)\n",
    "\n"
   ]
  },
  {
   "cell_type": "markdown",
   "metadata": {},
   "source": [
    "## Use MSE between predicted heat map and target map to define loss"
   ]
  },
  {
   "cell_type": "code",
   "execution_count": null,
   "metadata": {},
   "outputs": [],
   "source": [
    "vis_logits = TRM_predict('train', args, predictor, rgb_feats, depth_feats)\n",
    "loss_vis = criterion_mse(vis_logits, target)"
   ]
  }
 ],
 "metadata": {
  "kernelspec": {
   "display_name": "newnew_dcvln38",
   "language": "python",
   "name": "python3"
  },
  "language_info": {
   "codemirror_mode": {
    "name": "ipython",
    "version": 3
   },
   "file_extension": ".py",
   "mimetype": "text/x-python",
   "name": "python",
   "nbconvert_exporter": "python",
   "pygments_lexer": "ipython3",
   "version": "3.8.20"
  }
 },
 "nbformat": 4,
 "nbformat_minor": 2
}
